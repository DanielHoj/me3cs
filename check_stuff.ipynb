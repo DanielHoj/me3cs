{
 "cells": [
  {
   "cell_type": "code",
   "execution_count": 106,
   "outputs": [],
   "source": [
    "class Link:\n",
    "    data = None\n",
    "\n",
    "    @classmethod\n",
    "    def get(cls):\n",
    "        return cls.data\n",
    "\n",
    "    @classmethod\n",
    "    def set(cls, data):\n",
    "        cls.data = data\n",
    "\n",
    "\n",
    "class MissingDataLink(Link):\n",
    "    pass\n",
    "\n",
    "\n",
    "class PrepLink(Link):\n",
    "    pass\n",
    "\n",
    "\n",
    "class InitLink(Link):\n",
    "    pass\n",
    "\n",
    "\n",
    "def md_link(func):\n",
    "    def inner(self, *args, **kwargs):\n",
    "        func(self, *args, **kwargs)\n",
    "        data = self.data\n",
    "        MissingDataLink.set(data)\n",
    "\n",
    "    return inner\n"
   ],
   "metadata": {
    "collapsed": false
   }
  },
  {
   "cell_type": "code",
   "execution_count": 107,
   "outputs": [],
   "source": [
    "class BaseGetSet:\n",
    "    def __init__(self, data):\n",
    "        self.data = data\n",
    "\n",
    "    @property\n",
    "    def data(self):\n",
    "        return self._data\n",
    "\n",
    "    @data.setter\n",
    "    def data(self, data):\n",
    "        Link.set(data)\n",
    "        self._data = Link.get()\n",
    "\n",
    "    @data.getter\n",
    "    def data(self):\n",
    "        self._data = Link.get()\n",
    "        return Link.get()\n",
    "\n",
    "\n",
    "class Core(BaseGetSet):\n",
    "    def __init__(self, data: int):\n",
    "        super().__init__(data)\n",
    "        InitLink.set(data)\n",
    "        self.missing_data = MissingData(Link.get())\n",
    "        self.preprocessing = Preprocessing(Link.get())\n",
    "\n",
    "\n",
    "class MissingData(BaseGetSet):\n",
    "    def __init__(self, data):\n",
    "        super().__init__(data)\n",
    "\n",
    "    @md_link\n",
    "    def md_stuff(self, number):\n",
    "        self.data = self.data + number\n",
    "\n",
    "    def reset(self):\n",
    "        self.data = InitLink.get()\n",
    "\n",
    "\n",
    "class Preprocessing(BaseGetSet):\n",
    "    def __init__(self, data):\n",
    "        super().__init__(data)\n",
    "        PrepLink.set(data)\n",
    "\n",
    "    def prep_stuff(self, number):\n",
    "        self.data = self.data * number\n",
    "\n",
    "    def reset(self):\n",
    "        self.data = MissingDataLink.get()\n",
    "\n",
    "\n",
    "core = Core(2)"
   ],
   "metadata": {
    "collapsed": false
   }
  },
  {
   "cell_type": "code",
   "execution_count": 108,
   "outputs": [
    {
     "data": {
      "text/plain": "2"
     },
     "execution_count": 108,
     "metadata": {},
     "output_type": "execute_result"
    }
   ],
   "source": [
    "core.missing_data.data"
   ],
   "metadata": {
    "collapsed": false
   }
  },
  {
   "cell_type": "code",
   "execution_count": 109,
   "outputs": [],
   "source": [
    "core.missing_data.md_stuff(3)\n"
   ],
   "metadata": {
    "collapsed": false
   }
  },
  {
   "cell_type": "code",
   "execution_count": 110,
   "outputs": [
    {
     "data": {
      "text/plain": "5"
     },
     "execution_count": 110,
     "metadata": {},
     "output_type": "execute_result"
    }
   ],
   "source": [
    "core.data"
   ],
   "metadata": {
    "collapsed": false
   }
  },
  {
   "cell_type": "code",
   "execution_count": 111,
   "outputs": [],
   "source": [
    "core.missing_data.reset()"
   ],
   "metadata": {
    "collapsed": false
   }
  },
  {
   "cell_type": "code",
   "execution_count": 112,
   "outputs": [
    {
     "data": {
      "text/plain": "2"
     },
     "execution_count": 112,
     "metadata": {},
     "output_type": "execute_result"
    }
   ],
   "source": [
    "core.missing_data.data"
   ],
   "metadata": {
    "collapsed": false
   }
  },
  {
   "cell_type": "code",
   "execution_count": 113,
   "outputs": [],
   "source": [
    "core.missing_data.md_stuff(3)"
   ],
   "metadata": {
    "collapsed": false
   }
  },
  {
   "cell_type": "code",
   "execution_count": 114,
   "outputs": [
    {
     "data": {
      "text/plain": "5"
     },
     "execution_count": 114,
     "metadata": {},
     "output_type": "execute_result"
    }
   ],
   "source": [
    "core.data"
   ],
   "metadata": {
    "collapsed": false
   }
  },
  {
   "cell_type": "code",
   "execution_count": 118,
   "outputs": [],
   "source": [
    "core.preprocessing.prep_stuff(2)"
   ],
   "metadata": {
    "collapsed": false
   }
  },
  {
   "cell_type": "code",
   "execution_count": 116,
   "outputs": [
    {
     "data": {
      "text/plain": "10"
     },
     "execution_count": 116,
     "metadata": {},
     "output_type": "execute_result"
    }
   ],
   "source": [
    "core.data"
   ],
   "metadata": {
    "collapsed": false
   }
  },
  {
   "cell_type": "code",
   "execution_count": 117,
   "outputs": [
    {
     "data": {
      "text/plain": "5"
     },
     "execution_count": 117,
     "metadata": {},
     "output_type": "execute_result"
    }
   ],
   "source": [
    "core.preprocessing.reset()\n",
    "core.data"
   ],
   "metadata": {
    "collapsed": false
   }
  },
  {
   "cell_type": "code",
   "execution_count": 119,
   "outputs": [
    {
     "data": {
      "text/plain": "10"
     },
     "execution_count": 119,
     "metadata": {},
     "output_type": "execute_result"
    }
   ],
   "source": [
    "core.data"
   ],
   "metadata": {
    "collapsed": false
   }
  },
  {
   "cell_type": "code",
   "execution_count": 120,
   "outputs": [],
   "source": [
    "core.missing_data.reset()"
   ],
   "metadata": {
    "collapsed": false
   }
  },
  {
   "cell_type": "code",
   "execution_count": 121,
   "outputs": [
    {
     "data": {
      "text/plain": "2"
     },
     "execution_count": 121,
     "metadata": {},
     "output_type": "execute_result"
    }
   ],
   "source": [
    "core.data"
   ],
   "metadata": {
    "collapsed": false
   }
  },
  {
   "cell_type": "code",
   "execution_count": 153,
   "outputs": [],
   "source": [
    "from dataclasses import dataclass\n",
    "\n",
    "\n",
    "@dataclass\n",
    "class LinkInst:\n",
    "    data: [int | None]\n",
    "\n",
    "    def get(self):\n",
    "        return self.data\n",
    "\n",
    "    def set(self, data):\n",
    "        self.data = data\n"
   ],
   "metadata": {
    "collapsed": false
   }
  },
  {
   "cell_type": "code",
   "execution_count": 145,
   "outputs": [],
   "source": [],
   "metadata": {
    "collapsed": false
   }
  },
  {
   "cell_type": "code",
   "execution_count": 154,
   "outputs": [],
   "source": [
    "link1 = LinkInst(None)\n",
    "link2 = LinkInst(None)\n",
    "link3 = LinkInst(None)\n",
    "\n",
    "\n",
    "class BaseGetSet:\n",
    "    def __init__(self, data):\n",
    "        self.data = data\n",
    "\n",
    "    @property\n",
    "    def data(self):\n",
    "        return self._data\n",
    "\n",
    "    @data.setter\n",
    "    def data(self, data):\n",
    "        link1.set(data)\n",
    "        self._data = link1.get()\n",
    "\n",
    "    @data.getter\n",
    "    def data(self):\n",
    "        self._data = link1.get()\n",
    "        return link1.get()\n",
    "\n",
    "\n",
    "class Core(BaseGetSet):\n",
    "    def __init__(self, data: int):\n",
    "        super().__init__(data)\n",
    "        link2.set(data)\n",
    "        self.missing_data = MissingData(link1.get())\n",
    "        self.preprocessing = Preprocessing(link1.get())\n",
    "\n",
    "\n",
    "class MissingData(BaseGetSet):\n",
    "    def __init__(self, data):\n",
    "        super().__init__(data)\n",
    "\n",
    "    @md_link\n",
    "    def md_stuff(self, number):\n",
    "        self.data = self.data + number\n",
    "\n",
    "    def reset(self):\n",
    "        self.data = link1.get()\n",
    "\n",
    "\n",
    "class Preprocessing(BaseGetSet):\n",
    "    def __init__(self, data):\n",
    "        super().__init__(data)\n",
    "        link2.set(data)\n",
    "\n",
    "    def prep_stuff(self, number):\n",
    "        self.data = self.data * number\n",
    "\n",
    "    def reset(self):\n",
    "        self.data = link3.get()\n",
    "\n",
    "\n",
    "core = Core(2)"
   ],
   "metadata": {
    "collapsed": false
   }
  },
  {
   "cell_type": "code",
   "execution_count": 155,
   "outputs": [
    {
     "data": {
      "text/plain": "2"
     },
     "execution_count": 155,
     "metadata": {},
     "output_type": "execute_result"
    }
   ],
   "source": [
    "core.preprocessing.data"
   ],
   "metadata": {
    "collapsed": false
   }
  },
  {
   "cell_type": "code",
   "execution_count": 156,
   "outputs": [],
   "source": [
    "core.data = 1"
   ],
   "metadata": {
    "collapsed": false
   }
  },
  {
   "cell_type": "code",
   "execution_count": 159,
   "outputs": [
    {
     "data": {
      "text/plain": "1"
     },
     "execution_count": 159,
     "metadata": {},
     "output_type": "execute_result"
    }
   ],
   "source": [
    "core.missing_data.data"
   ],
   "metadata": {
    "collapsed": false
   }
  },
  {
   "cell_type": "code",
   "execution_count": 161,
   "outputs": [
    {
     "data": {
      "text/plain": "3"
     },
     "execution_count": 161,
     "metadata": {},
     "output_type": "execute_result"
    }
   ],
   "source": [
    "core.missing_data.md_stuff(2)\n",
    "core.data"
   ],
   "metadata": {
    "collapsed": false
   }
  },
  {
   "cell_type": "code",
   "execution_count": 164,
   "outputs": [
    {
     "data": {
      "text/plain": "27"
     },
     "execution_count": 164,
     "metadata": {},
     "output_type": "execute_result"
    }
   ],
   "source": [
    "core.preprocessing.prep_stuff(3)\n",
    "core.data"
   ],
   "metadata": {
    "collapsed": false
   }
  },
  {
   "cell_type": "code",
   "execution_count": 165,
   "outputs": [],
   "source": [
    "core.preprocessing.reset()"
   ],
   "metadata": {
    "collapsed": false
   }
  },
  {
   "cell_type": "code",
   "execution_count": 169,
   "outputs": [],
   "source": [],
   "metadata": {
    "collapsed": false
   }
  },
  {
   "cell_type": "code",
   "execution_count": 170,
   "outputs": [
    {
     "data": {
      "text/plain": "2"
     },
     "execution_count": 170,
     "metadata": {},
     "output_type": "execute_result"
    }
   ],
   "source": [],
   "metadata": {
    "collapsed": false
   }
  },
  {
   "cell_type": "code",
   "execution_count": null,
   "outputs": [],
   "source": [],
   "metadata": {
    "collapsed": false
   }
  }
 ],
 "metadata": {
  "kernelspec": {
   "display_name": "Python 3",
   "language": "python",
   "name": "python3"
  },
  "language_info": {
   "codemirror_mode": {
    "name": "ipython",
    "version": 2
   },
   "file_extension": ".py",
   "mimetype": "text/x-python",
   "name": "python",
   "nbconvert_exporter": "python",
   "pygments_lexer": "ipython2",
   "version": "2.7.6"
  }
 },
 "nbformat": 4,
 "nbformat_minor": 0
}
